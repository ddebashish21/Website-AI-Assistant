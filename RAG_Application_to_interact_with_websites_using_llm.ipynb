{
  "nbformat": 4,
  "nbformat_minor": 0,
  "metadata": {
    "colab": {
      "provenance": [],
      "authorship_tag": "ABX9TyM7XlVYmn4ygG2wV2NXH20g",
      "include_colab_link": true
    },
    "kernelspec": {
      "name": "python3",
      "display_name": "Python 3"
    },
    "language_info": {
      "name": "python"
    }
  },
  "cells": [
    {
      "cell_type": "markdown",
      "metadata": {
        "id": "view-in-github",
        "colab_type": "text"
      },
      "source": [
        "<a href=\"https://colab.research.google.com/github/ddebashish21/Website-AI-Assistant/blob/main/RAG_Application_to_interact_with_websites_using_llm.ipynb\" target=\"_parent\"><img src=\"https://colab.research.google.com/assets/colab-badge.svg\" alt=\"Open In Colab\"/></a>"
      ]
    },
    {
      "cell_type": "markdown",
      "source": [
        "# **RAG Application to interact with websites using Large Language Model**"
      ],
      "metadata": {
        "id": "oPdyrQA3Rh8a"
      }
    },
    {
      "cell_type": "markdown",
      "source": [
        "The aim of this project is to create a RAG application to interact with the websites by feeding the url of the websites to the model, which uses an LLM to respond to the queries asked by the user."
      ],
      "metadata": {
        "id": "MMou31vjSIIC"
      }
    },
    {
      "cell_type": "markdown",
      "source": [
        "**Setting up the environment using langchain**"
      ],
      "metadata": {
        "id": "nWOn-zc7UMl_"
      }
    },
    {
      "cell_type": "code",
      "execution_count": 59,
      "metadata": {
        "id": "ErswtvEVnugT"
      },
      "outputs": [],
      "source": [
        "%%capture\n",
        "!pip install langchain_community"
      ]
    },
    {
      "cell_type": "markdown",
      "source": [
        "**Installing and importing the necessary libraries to extract the data of the websites**"
      ],
      "metadata": {
        "id": "R_fl2kcyUk5b"
      }
    },
    {
      "cell_type": "code",
      "source": [
        "!pip -q install unstructured"
      ],
      "metadata": {
        "id": "7QZJBcg4oRuX"
      },
      "execution_count": 60,
      "outputs": []
    },
    {
      "cell_type": "code",
      "source": [
        "from langchain_community.document_loaders import UnstructuredURLLoader\n",
        "urls=[\"https://www.odinschool.com/\", \"https://www.odinschool.com/data-science-course\"] # The websites we want to interact to\n",
        "loader=UnstructuredURLLoader(urls=urls)\n",
        "data=loader.load() # Extracting the data from the websites and storing it in data variable"
      ],
      "metadata": {
        "id": "DwBs4v-LpUH7"
      },
      "execution_count": 61,
      "outputs": []
    },
    {
      "cell_type": "markdown",
      "source": [
        "**Splitting the data of the websites into chunks**"
      ],
      "metadata": {
        "id": "Y4710YoMV_Hx"
      }
    },
    {
      "cell_type": "code",
      "source": [
        "from langchain.text_splitter import RecursiveCharacterTextSplitter\n",
        "text_chunks=RecursiveCharacterTextSplitter(chunk_size=1000,chunk_overlap=200)\n",
        "chunks=text_chunks.split_documents(data) # Dividing the whole data into chunks\n",
        "print(len(chunks)) # Printing the length of the chunks created"
      ],
      "metadata": {
        "colab": {
          "base_uri": "https://localhost:8080/"
        },
        "id": "CHNgVClUqdzD",
        "outputId": "289324d7-33fa-4763-ed0b-344f265cfa01"
      },
      "execution_count": 62,
      "outputs": [
        {
          "output_type": "stream",
          "name": "stdout",
          "text": [
            "51\n"
          ]
        }
      ]
    },
    {
      "cell_type": "markdown",
      "source": [
        "**Installing Langchain HuggingFace to use HuggingFace embedding and llm models**"
      ],
      "metadata": {
        "id": "qos7AGrkYHpl"
      }
    },
    {
      "cell_type": "code",
      "source": [
        "!pip -q install langchain_huggingface"
      ],
      "metadata": {
        "id": "1lV8MdxDrh6j"
      },
      "execution_count": 63,
      "outputs": []
    },
    {
      "cell_type": "code",
      "source": [
        "# Importing the embedding model from HuggingFace to embed the data\n",
        "from langchain_huggingface import HuggingFaceEmbeddings\n",
        "embeddings=HuggingFaceEmbeddings(model_name=\"sentence-transformers/all-MiniLM-L6-v2\")"
      ],
      "metadata": {
        "id": "OpCUnN-_rzZk"
      },
      "execution_count": 64,
      "outputs": []
    },
    {
      "cell_type": "markdown",
      "source": [
        "**Installing a Vector DataBase to store the embedded data**"
      ],
      "metadata": {
        "id": "gs-B3r9AZQwH"
      }
    },
    {
      "cell_type": "code",
      "source": [
        "!pip -q install faiss-cpu"
      ],
      "metadata": {
        "id": "Sn1pXwv3r809"
      },
      "execution_count": 65,
      "outputs": []
    },
    {
      "cell_type": "code",
      "source": [
        "from langchain.vectorstores import FAISS\n",
        "db=FAISS.from_documents(chunks,embeddings) # Storing the embedded data in db variable"
      ],
      "metadata": {
        "id": "Mm57PmKOsGhS"
      },
      "execution_count": 66,
      "outputs": []
    },
    {
      "cell_type": "markdown",
      "source": [
        "**Setting up the LLM model to generate text and answer user queries based on the information extracted from the websites**"
      ],
      "metadata": {
        "id": "E-X2PFZKaBQt"
      }
    },
    {
      "cell_type": "code",
      "source": [
        "from transformers import AutoTokenizer,AutoModelForSeq2SeqLM, pipeline\n",
        "tokenizer=AutoTokenizer.from_pretrained(\"google/flan-t5-base\") # Tokenizing the data using pre-trained tokenizer for the llm model\n",
        "model=AutoModelForSeq2SeqLM.from_pretrained(\"google/flan-t5-base\") # Loading the pre-trained llm model\n",
        "pipe=pipeline(\"text2text-generation\",model=model,tokenizer=tokenizer, max_new_tokens=500) # Setting up the model"
      ],
      "metadata": {
        "id": "LufSInLYucXN"
      },
      "execution_count": 67,
      "outputs": []
    },
    {
      "cell_type": "code",
      "source": [
        "from langchain_huggingface import HuggingFacePipeline\n",
        "llm=HuggingFacePipeline(pipeline=pipe)"
      ],
      "metadata": {
        "id": "TCi_tnkQujA6"
      },
      "execution_count": 68,
      "outputs": []
    },
    {
      "cell_type": "code",
      "source": [
        "from langchain.chains import RetrievalQA\n",
        "qa=RetrievalQA.from_chain_type(llm=llm,chain_type=\"stuff\",retriever=db.as_retriever()) # Retrieving the information from the vector database using llm"
      ],
      "metadata": {
        "id": "KdUVme46vG3r"
      },
      "execution_count": 69,
      "outputs": []
    },
    {
      "cell_type": "code",
      "source": [
        "query=\"what are the courses that odinschool provide?\" # The query of the user"
      ],
      "metadata": {
        "id": "UTSvZsalvVpu"
      },
      "execution_count": 70,
      "outputs": []
    },
    {
      "cell_type": "code",
      "source": [
        "response=qa.invoke(query) # Loading the response of the model for the given query"
      ],
      "metadata": {
        "id": "5AWdxWlovaH_",
        "colab": {
          "base_uri": "https://localhost:8080/"
        },
        "outputId": "78fb2476-7b7c-4299-9668-eb7eea0c0bf6"
      },
      "execution_count": 71,
      "outputs": [
        {
          "output_type": "stream",
          "name": "stderr",
          "text": [
            "Token indices sequence length is longer than the specified maximum sequence length for this model (857 > 512). Running this sequence through the model will result in indexing errors\n"
          ]
        }
      ]
    },
    {
      "cell_type": "code",
      "source": [
        "print(response['result']) # Printing the response"
      ],
      "metadata": {
        "colab": {
          "base_uri": "https://localhost:8080/"
        },
        "id": "4Ng2cWL3vrC6",
        "outputId": "66c0f312-b6f4-4b07-aee1-b50fcce06413"
      },
      "execution_count": 72,
      "outputs": [
        {
          "output_type": "stream",
          "name": "stdout",
          "text": [
            "Data Science Courses\n"
          ]
        }
      ]
    },
    {
      "cell_type": "markdown",
      "source": [
        "# **Creating a User Interface using Gradio to ask questions to the model**"
      ],
      "metadata": {
        "id": "STCaJoYUgXyH"
      }
    },
    {
      "cell_type": "code",
      "source": [
        "!pip -q install gradio"
      ],
      "metadata": {
        "id": "W2RpWfktgg02"
      },
      "execution_count": 73,
      "outputs": []
    },
    {
      "cell_type": "code",
      "source": [
        "import gradio as gr\n",
        "\n",
        "def virtualAssistant(question, history):\n",
        "  response=qa.invoke(question)\n",
        "  return response['result']\n",
        "\n",
        "gr.ChatInterface(\n",
        "    virtualAssistant,\n",
        "    chatbot=gr.Chatbot(height=300),\n",
        "    textbox=gr.Textbox(placeholder=\"Ask me a question\", container=False, scale=7),\n",
        "    title=\"Virtual Assistant of the website\",\n",
        "    description=\"Ask virtual sssistant any question\",\n",
        "    theme=\"soft\",\n",
        "    examples=[\"What is the duration of the Data Science course?\", \"How many companies come for the recruitment?\", \"What is the tuition fee for Data Science Course?\",\"Contact details\"],\n",
        "    cache_examples=True\n",
        ").launch()"
      ],
      "metadata": {
        "colab": {
          "base_uri": "https://localhost:8080/",
          "height": 767
        },
        "id": "vCAOelsnhllX",
        "outputId": "6f2575fb-0923-429a-f47b-d9baa36df776"
      },
      "execution_count": 75,
      "outputs": [
        {
          "output_type": "stream",
          "name": "stderr",
          "text": [
            "/usr/local/lib/python3.10/dist-packages/gradio/components/chatbot.py:225: UserWarning: You have not specified a value for the `type` parameter. Defaulting to the 'tuples' format for chatbot messages, but this is deprecated and will be removed in a future version of Gradio. Please set type='messages' instead, which uses openai-style 'role' and 'content' keys.\n",
            "  warnings.warn(\n"
          ]
        },
        {
          "output_type": "stream",
          "name": "stdout",
          "text": [
            "Caching examples at: '/content/.gradio/cached_examples/206'\n",
            "Caching example 1/4\n",
            "Caching example 2/4\n",
            "Caching example 3/4\n",
            "Caching example 4/4\n",
            "Running Gradio in a Colab notebook requires sharing enabled. Automatically setting `share=True` (you can turn this off by setting `share=False` in `launch()` explicitly).\n",
            "\n",
            "Colab notebook detected. To show errors in colab notebook, set debug=True in launch()\n",
            "* Running on public URL: https://e361689913cdc386e8.gradio.live\n",
            "\n",
            "This share link expires in 72 hours. For free permanent hosting and GPU upgrades, run `gradio deploy` from the terminal in the working directory to deploy to Hugging Face Spaces (https://huggingface.co/spaces)\n"
          ]
        },
        {
          "output_type": "display_data",
          "data": {
            "text/plain": [
              "<IPython.core.display.HTML object>"
            ],
            "text/html": [
              "<div><iframe src=\"https://e361689913cdc386e8.gradio.live\" width=\"100%\" height=\"500\" allow=\"autoplay; camera; microphone; clipboard-read; clipboard-write;\" frameborder=\"0\" allowfullscreen></iframe></div>"
            ]
          },
          "metadata": {}
        },
        {
          "output_type": "execute_result",
          "data": {
            "text/plain": []
          },
          "metadata": {},
          "execution_count": 75
        }
      ]
    }
  ]
}